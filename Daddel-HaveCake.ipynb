{
 "cells": [
  {
   "cell_type": "code",
   "execution_count": 1,
   "metadata": {},
   "outputs": [],
   "source": [
    "from aimacode.planning import Action\n",
    "from aimacode.search import (\n",
    "    breadth_first_search, astar_search, depth_first_graph_search,\n",
    "    uniform_cost_search, greedy_best_first_graph_search\n",
    ")\n",
    "from aimacode.utils import expr\n",
    "\n",
    "from _utils import (\n",
    "    FluentState, encode_state, make_relations, run_search\n",
    ")\n",
    "from planning_problem import BasePlanningProblem"
   ]
  },
  {
   "cell_type": "code",
   "execution_count": 56,
   "metadata": {},
   "outputs": [],
   "source": [
    "##############################################################################\n",
    "#                 YOU DO NOT NEED TO MODIFY CODE IN THIS FILE                #\n",
    "##############################################################################\n",
    "\n",
    "class HaveCakeProblem(BasePlanningProblem):\n",
    "    def __init__(self, initial, goal):\n",
    "        \"\"\"\n",
    "        Parameters\n",
    "        ----------\n",
    "        initial : FluentState\n",
    "            A representation of the initial problem state as a collection\n",
    "            of positive and negative literals (each literal fluent should\n",
    "            be an `aimacode.utils.Expr` instance)\n",
    "\n",
    "        goal : iterable\n",
    "            A collection of literal fluents describing the goal state of\n",
    "            the problem (each fluent should be an instance of the\n",
    "            `aimacode.utils.Expr` class)\n",
    "        \"\"\"\n",
    "        super().__init__(initial, goal)\n",
    "        self.actions_list = self.get_actions()\n",
    "\n",
    "    def get_actions(self):\n",
    "        precond_pos = [expr(\"Have(Cake)\")]\n",
    "        precond_neg = []\n",
    "        effect_add = [expr(\"Eaten(Cake)\")]\n",
    "        effect_rem = [expr(\"Have(Cake)\")]\n",
    "        eat_action = Action(expr(\"Eat(Cake)\"),\n",
    "                            [precond_pos, precond_neg],\n",
    "                            [effect_add, effect_rem])\n",
    "        precond_pos = []\n",
    "        precond_neg = [expr(\"Have(Cake)\")]\n",
    "        effect_add = [expr(\"Have(Cake)\")]\n",
    "        effect_rem = []\n",
    "        bake_action = Action(expr(\"Bake(Cake)\"),\n",
    "                             [precond_pos, precond_neg],\n",
    "                             [effect_add, effect_rem])\n",
    "        return [eat_action, bake_action]"
   ]
  },
  {
   "cell_type": "code",
   "execution_count": 65,
   "metadata": {},
   "outputs": [],
   "source": [
    "def have_cake():\n",
    "    cakes = ['Cake']\n",
    "    have_relations = make_relations('Have', cakes)\n",
    "    eaten_relations = make_relations('Eaten', cakes)\n",
    "    \n",
    "    def get_init():\n",
    "        pos = have_relations\n",
    "        neg = eaten_relations\n",
    "        return FluentState(pos, neg)\n",
    "\n",
    "    def get_goal():\n",
    "        return have_relations + eaten_relations\n",
    "\n",
    "    ini = get_init()\n",
    "    print('pos:', ini.pos)\n",
    "    print('neg:', ini.neg)\n",
    "    print('pos_sentence:', ini.pos_sentence())\n",
    "    print('sentence:', ini.sentence())\n",
    "    return HaveCakeProblem(get_init(), get_goal())"
   ]
  },
  {
   "cell_type": "code",
   "execution_count": 66,
   "metadata": {},
   "outputs": [
    {
     "name": "stdout",
     "output_type": "stream",
     "text": [
      "pos: [Have(Cake)]\n",
      "neg: [Eaten(Cake)]\n",
      "pos_sentence: Have(Cake)\n",
      "sentence: (Have(Cake) & ~Eaten(Cake))\n",
      "**** Have Cake example problem setup ****\n",
      "Fluents in this problem are:\n",
      "   Eaten(Cake)\n",
      "   Have(Cake)\n"
     ]
    }
   ],
   "source": [
    "#if __name__ == '__main__':\n",
    "p = have_cake()\n",
    "print(\"**** Have Cake example problem setup ****\")\n",
    "print(\"Fluents in this problem are:\")\n",
    "for f in p.state_map:\n",
    "    print('   {}'.format(f))"
   ]
  },
  {
   "cell_type": "code",
   "execution_count": null,
   "metadata": {},
   "outputs": [],
   "source": []
  },
  {
   "cell_type": "code",
   "execution_count": 67,
   "metadata": {},
   "outputs": [
    {
     "name": "stdout",
     "output_type": "stream",
     "text": [
      "Initial state for this problem is (False, True)\n"
     ]
    }
   ],
   "source": [
    "print(\"Initial state for this problem is {}\".format(p.initial))"
   ]
  },
  {
   "cell_type": "code",
   "execution_count": 68,
   "metadata": {},
   "outputs": [
    {
     "name": "stdout",
     "output_type": "stream",
     "text": [
      "Actions for this domain are:\n",
      "   Eat(Cake,)\n",
      "   Bake(Cake,)\n"
     ]
    }
   ],
   "source": [
    "print(\"Actions for this domain are:\")\n",
    "for a in p.actions_list:\n",
    "    print('   {}{}'.format(a.name, a.args))\n",
    "    "
   ]
  },
  {
   "cell_type": "code",
   "execution_count": null,
   "metadata": {},
   "outputs": [],
   "source": []
  },
  {
   "cell_type": "code",
   "execution_count": 69,
   "metadata": {},
   "outputs": [
    {
     "name": "stdout",
     "output_type": "stream",
     "text": [
      "Goal requirement for this problem are:\n",
      "   Have(Cake)\n",
      "   Eaten(Cake)\n",
      "\n"
     ]
    }
   ],
   "source": [
    "print(\"Goal requirement for this problem are:\")\n",
    "for g in p.goal:\n",
    "    print('   {}'.format(g))\n",
    "print()"
   ]
  },
  {
   "cell_type": "code",
   "execution_count": 152,
   "metadata": {},
   "outputs": [],
   "source": [
    "from aimacode.logic import pl_true, pl_resolve, pl_fc_entails"
   ]
  },
  {
   "cell_type": "code",
   "execution_count": 147,
   "metadata": {},
   "outputs": [
    {
     "name": "stdout",
     "output_type": "stream",
     "text": [
      "Have(Cake) (Cake,) Eaten(Cake) (Cake,)\n"
     ]
    }
   ],
   "source": [
    "print(x1, x1.args, x2, x2.args)\n",
    "d = {'Cake': True}\n",
    "pl_true(x1 & ~x1, model=d)"
   ]
  },
  {
   "cell_type": "code",
   "execution_count": 177,
   "metadata": {},
   "outputs": [
    {
     "data": {
      "text/plain": [
       "['__call__',\n",
       " '__class__',\n",
       " '__delattr__',\n",
       " '__dict__',\n",
       " '__dir__',\n",
       " '__doc__',\n",
       " '__eq__',\n",
       " '__format__',\n",
       " '__ge__',\n",
       " '__getattribute__',\n",
       " '__gt__',\n",
       " '__hash__',\n",
       " '__init__',\n",
       " '__init_subclass__',\n",
       " '__le__',\n",
       " '__lt__',\n",
       " '__module__',\n",
       " '__ne__',\n",
       " '__new__',\n",
       " '__reduce__',\n",
       " '__reduce_ex__',\n",
       " '__repr__',\n",
       " '__setattr__',\n",
       " '__sizeof__',\n",
       " '__str__',\n",
       " '__subclasshook__',\n",
       " '__weakref__',\n",
       " 'act',\n",
       " 'args',\n",
       " 'check_precond',\n",
       " 'effect_add',\n",
       " 'effect_rem',\n",
       " 'name',\n",
       " 'precond_neg',\n",
       " 'precond_pos',\n",
       " 'substitute']"
      ]
     },
     "execution_count": 177,
     "metadata": {},
     "output_type": "execute_result"
    }
   ],
   "source": [
    "a0 = p.actions(p.initial)[0]\n",
    "dir(a0)"
   ]
  },
  {
   "cell_type": "code",
   "execution_count": 175,
   "metadata": {},
   "outputs": [
    {
     "ename": "AttributeError",
     "evalue": "'list' object has no attribute 'args'",
     "output_type": "error",
     "traceback": [
      "\u001b[1;31m---------------------------------------------------------------------------\u001b[0m",
      "\u001b[1;31mAttributeError\u001b[0m                            Traceback (most recent call last)",
      "\u001b[1;32m<ipython-input-175-8717a67a0e5a>\u001b[0m in \u001b[0;36m<module>\u001b[1;34m\u001b[0m\n\u001b[1;32m----> 1\u001b[1;33m \u001b[0ma0\u001b[0m\u001b[1;33m.\u001b[0m\u001b[0margs\u001b[0m\u001b[1;33m\u001b[0m\u001b[1;33m\u001b[0m\u001b[0m\n\u001b[0m",
      "\u001b[1;31mAttributeError\u001b[0m: 'list' object has no attribute 'args'"
     ]
    }
   ],
   "source": [
    "a0.args"
   ]
  },
  {
   "cell_type": "code",
   "execution_count": null,
   "metadata": {},
   "outputs": [],
   "source": []
  },
  {
   "cell_type": "code",
   "execution_count": 123,
   "metadata": {},
   "outputs": [
    {
     "name": "stdout",
     "output_type": "stream",
     "text": [
      "Have(Cake) Eaten(Cake)\n"
     ]
    },
    {
     "ename": "AttributeError",
     "evalue": "'list' object has no attribute 'get'",
     "output_type": "error",
     "traceback": [
      "\u001b[1;31m---------------------------------------------------------------------------\u001b[0m",
      "\u001b[1;31mAttributeError\u001b[0m                            Traceback (most recent call last)",
      "\u001b[1;32m<ipython-input-123-f9767f943781>\u001b[0m in \u001b[0;36m<module>\u001b[1;34m\u001b[0m\n\u001b[0;32m      2\u001b[0m \u001b[0mprint\u001b[0m\u001b[1;33m(\u001b[0m \u001b[0mx1\u001b[0m\u001b[1;33m,\u001b[0m \u001b[0mx2\u001b[0m\u001b[1;33m)\u001b[0m\u001b[1;33m\u001b[0m\u001b[1;33m\u001b[0m\u001b[0m\n\u001b[0;32m      3\u001b[0m \u001b[1;33m\u001b[0m\u001b[0m\n\u001b[1;32m----> 4\u001b[1;33m \u001b[0mr\u001b[0m \u001b[1;33m=\u001b[0m \u001b[0mpl_true\u001b[0m\u001b[1;33m(\u001b[0m\u001b[0mx1\u001b[0m \u001b[1;33m&\u001b[0m \u001b[1;33m~\u001b[0m\u001b[0mx1\u001b[0m\u001b[1;33m,\u001b[0m \u001b[0mmodel\u001b[0m\u001b[1;33m=\u001b[0m\u001b[1;33m[\u001b[0m\u001b[0mx1\u001b[0m\u001b[1;33m,\u001b[0m \u001b[0mx2\u001b[0m\u001b[1;33m]\u001b[0m\u001b[1;33m)\u001b[0m\u001b[1;33m\u001b[0m\u001b[1;33m\u001b[0m\u001b[0m\n\u001b[0m\u001b[0;32m      5\u001b[0m \u001b[0mprint\u001b[0m\u001b[1;33m(\u001b[0m\u001b[0mr\u001b[0m\u001b[1;33m)\u001b[0m\u001b[1;33m\u001b[0m\u001b[1;33m\u001b[0m\u001b[0m\n",
      "\u001b[1;32m~\\Projects\\uda_ai2_classical_planning\\aimacode\\logic.py\u001b[0m in \u001b[0;36mpl_true\u001b[1;34m(exp, model)\u001b[0m\n\u001b[0;32m    234\u001b[0m         \u001b[0mresult\u001b[0m \u001b[1;33m=\u001b[0m \u001b[1;32mTrue\u001b[0m\u001b[1;33m\u001b[0m\u001b[1;33m\u001b[0m\u001b[0m\n\u001b[0;32m    235\u001b[0m         \u001b[1;32mfor\u001b[0m \u001b[0marg\u001b[0m \u001b[1;32min\u001b[0m \u001b[0margs\u001b[0m\u001b[1;33m:\u001b[0m\u001b[1;33m\u001b[0m\u001b[1;33m\u001b[0m\u001b[0m\n\u001b[1;32m--> 236\u001b[1;33m             \u001b[0mp\u001b[0m \u001b[1;33m=\u001b[0m \u001b[0mpl_true\u001b[0m\u001b[1;33m(\u001b[0m\u001b[0marg\u001b[0m\u001b[1;33m,\u001b[0m \u001b[0mmodel\u001b[0m\u001b[1;33m)\u001b[0m\u001b[1;33m\u001b[0m\u001b[1;33m\u001b[0m\u001b[0m\n\u001b[0m\u001b[0;32m    237\u001b[0m             \u001b[1;32mif\u001b[0m \u001b[0mp\u001b[0m \u001b[1;32mis\u001b[0m \u001b[1;32mFalse\u001b[0m\u001b[1;33m:\u001b[0m\u001b[1;33m\u001b[0m\u001b[1;33m\u001b[0m\u001b[0m\n\u001b[0;32m    238\u001b[0m                 \u001b[1;32mreturn\u001b[0m \u001b[1;32mFalse\u001b[0m\u001b[1;33m\u001b[0m\u001b[1;33m\u001b[0m\u001b[0m\n",
      "\u001b[1;32m~\\Projects\\uda_ai2_classical_planning\\aimacode\\logic.py\u001b[0m in \u001b[0;36mpl_true\u001b[1;34m(exp, model)\u001b[0m\n\u001b[0;32m    215\u001b[0m     \u001b[0mop\u001b[0m\u001b[1;33m,\u001b[0m \u001b[0margs\u001b[0m \u001b[1;33m=\u001b[0m \u001b[0mexp\u001b[0m\u001b[1;33m.\u001b[0m\u001b[0mop\u001b[0m\u001b[1;33m,\u001b[0m \u001b[0mexp\u001b[0m\u001b[1;33m.\u001b[0m\u001b[0margs\u001b[0m\u001b[1;33m\u001b[0m\u001b[1;33m\u001b[0m\u001b[0m\n\u001b[0;32m    216\u001b[0m     \u001b[1;32mif\u001b[0m \u001b[0mis_prop_symbol\u001b[0m\u001b[1;33m(\u001b[0m\u001b[0mop\u001b[0m\u001b[1;33m)\u001b[0m\u001b[1;33m:\u001b[0m\u001b[1;33m\u001b[0m\u001b[1;33m\u001b[0m\u001b[0m\n\u001b[1;32m--> 217\u001b[1;33m         \u001b[1;32mreturn\u001b[0m \u001b[0mmodel\u001b[0m\u001b[1;33m.\u001b[0m\u001b[0mget\u001b[0m\u001b[1;33m(\u001b[0m\u001b[0mexp\u001b[0m\u001b[1;33m)\u001b[0m\u001b[1;33m\u001b[0m\u001b[1;33m\u001b[0m\u001b[0m\n\u001b[0m\u001b[0;32m    218\u001b[0m     \u001b[1;32melif\u001b[0m \u001b[0mop\u001b[0m \u001b[1;33m==\u001b[0m \u001b[1;34m'~'\u001b[0m\u001b[1;33m:\u001b[0m\u001b[1;33m\u001b[0m\u001b[1;33m\u001b[0m\u001b[0m\n\u001b[0;32m    219\u001b[0m         \u001b[0mp\u001b[0m \u001b[1;33m=\u001b[0m \u001b[0mpl_true\u001b[0m\u001b[1;33m(\u001b[0m\u001b[0margs\u001b[0m\u001b[1;33m[\u001b[0m\u001b[1;36m0\u001b[0m\u001b[1;33m]\u001b[0m\u001b[1;33m,\u001b[0m \u001b[0mmodel\u001b[0m\u001b[1;33m)\u001b[0m\u001b[1;33m\u001b[0m\u001b[1;33m\u001b[0m\u001b[0m\n",
      "\u001b[1;31mAttributeError\u001b[0m: 'list' object has no attribute 'get'"
     ]
    }
   ],
   "source": [
    "x1, x2 = p.goal\n",
    "print( x1, x2)\n",
    "\n",
    "r = pl_true(x1 & ~x1, model=[x1, x2])\n",
    "print(r)"
   ]
  },
  {
   "cell_type": "code",
   "execution_count": 124,
   "metadata": {},
   "outputs": [
    {
     "ename": "NameError",
     "evalue": "name 'kb' is not defined",
     "output_type": "error",
     "traceback": [
      "\u001b[1;31m---------------------------------------------------------------------------\u001b[0m",
      "\u001b[1;31mNameError\u001b[0m                                 Traceback (most recent call last)",
      "\u001b[1;32m<ipython-input-124-955c999b8694>\u001b[0m in \u001b[0;36m<module>\u001b[1;34m\u001b[0m\n\u001b[0;32m      1\u001b[0m \u001b[1;31m#expr('{} & Toll'.format(x1))\u001b[0m\u001b[1;33m\u001b[0m\u001b[1;33m\u001b[0m\u001b[1;33m\u001b[0m\u001b[0m\n\u001b[1;32m----> 2\u001b[1;33m \u001b[0mpl_true\u001b[0m\u001b[1;33m(\u001b[0m\u001b[0mkb\u001b[0m\u001b[1;33m,\u001b[0m \u001b[0mmodel\u001b[0m\u001b[1;33m)\u001b[0m\u001b[1;33m\u001b[0m\u001b[1;33m\u001b[0m\u001b[0m\n\u001b[0m",
      "\u001b[1;31mNameError\u001b[0m: name 'kb' is not defined"
     ]
    }
   ],
   "source": [
    "#expr('{} & Toll'.format(x1))\n",
    "pl_true(kb, model)\n"
   ]
  },
  {
   "cell_type": "code",
   "execution_count": 125,
   "metadata": {},
   "outputs": [
    {
     "name": "stdout",
     "output_type": "stream",
     "text": [
      "*** Breadth First Search\n",
      "\n",
      "# Actions   Expansions   Goal Tests   New Nodes\n",
      "    2           2           3           2     \n",
      "\n",
      "Plan length: 2  Time elapsed in seconds: 0.00042039999971166253\n",
      "Eat(Cake,)\n",
      "Bake(Cake,)\n",
      "\n"
     ]
    }
   ],
   "source": [
    "print(\"*** Breadth First Search\")\n",
    "run_search(p, breadth_first_search)"
   ]
  },
  {
   "cell_type": "code",
   "execution_count": 12,
   "metadata": {},
   "outputs": [
    {
     "name": "stdout",
     "output_type": "stream",
     "text": [
      "*** Depth First Search\n",
      "\n",
      "# Actions   Expansions   Goal Tests   New Nodes\n",
      "    2           2           3           2     \n",
      "\n",
      "Plan length: 2  Time elapsed in seconds: 0.00018380000000206564\n",
      "Eat(Cake,)\n",
      "Bake(Cake,)\n",
      "\n"
     ]
    }
   ],
   "source": [
    "print(\"*** Depth First Search\")\n",
    "run_search(p, depth_first_graph_search)"
   ]
  },
  {
   "cell_type": "code",
   "execution_count": 13,
   "metadata": {},
   "outputs": [
    {
     "name": "stdout",
     "output_type": "stream",
     "text": [
      "*** Uniform Cost Search\n",
      "\n",
      "# Actions   Expansions   Goal Tests   New Nodes\n",
      "    2           2           4           2     \n",
      "\n",
      "Plan length: 2  Time elapsed in seconds: 0.00030390000000579676\n",
      "Eat(Cake,)\n",
      "Bake(Cake,)\n",
      "\n"
     ]
    }
   ],
   "source": [
    "print(\"*** Uniform Cost Search\")\n",
    "run_search(p, uniform_cost_search)"
   ]
  },
  {
   "cell_type": "code",
   "execution_count": 14,
   "metadata": {},
   "outputs": [
    {
     "name": "stdout",
     "output_type": "stream",
     "text": [
      "*** Greedy Best First Graph Search - null heuristic\n",
      "\n",
      "# Actions   Expansions   Goal Tests   New Nodes\n",
      "    2           2           4           2     \n",
      "\n",
      "Plan length: 2  Time elapsed in seconds: 0.0001803000000109023\n",
      "Eat(Cake,)\n",
      "Bake(Cake,)\n",
      "\n"
     ]
    }
   ],
   "source": [
    "print(\"*** Greedy Best First Graph Search - null heuristic\")\n",
    "run_search(p, greedy_best_first_graph_search, parameter=lambda x: 0)"
   ]
  },
  {
   "cell_type": "code",
   "execution_count": 15,
   "metadata": {},
   "outputs": [
    {
     "name": "stdout",
     "output_type": "stream",
     "text": [
      "*** A-star null heuristic\n",
      "\n",
      "# Actions   Expansions   Goal Tests   New Nodes\n",
      "    2           2           4           2     \n",
      "\n",
      "Plan length: 2  Time elapsed in seconds: 0.00029299999999921056\n",
      "Eat(Cake,)\n",
      "Bake(Cake,)\n",
      "\n"
     ]
    }
   ],
   "source": [
    "print(\"*** A-star null heuristic\")\n",
    "run_search(p, astar_search, lambda x: 0)"
   ]
  },
  {
   "cell_type": "code",
   "execution_count": null,
   "metadata": {},
   "outputs": [],
   "source": []
  }
 ],
 "metadata": {
  "kernelspec": {
   "display_name": "Python 3",
   "language": "python",
   "name": "python3"
  },
  "language_info": {
   "codemirror_mode": {
    "name": "ipython",
    "version": 3
   },
   "file_extension": ".py",
   "mimetype": "text/x-python",
   "name": "python",
   "nbconvert_exporter": "python",
   "pygments_lexer": "ipython3",
   "version": "3.6.8"
  }
 },
 "nbformat": 4,
 "nbformat_minor": 2
}
